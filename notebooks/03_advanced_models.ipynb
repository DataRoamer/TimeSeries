{
 "cells": [
  {
   "cell_type": "markdown",
   "metadata": {},
   "source": [
    "# Advanced Time Series Models\n",
    "\n",
    "This notebook covers machine learning and deep learning approaches."
   ]
  },
  {
   "cell_type": "code",
   "execution_count": null,
   "metadata": {},
   "outputs": [],
   "source": [
    "import pandas as pd\n",
    "import numpy as np\n",
    "import matplotlib.pyplot as plt\n",
    "from sklearn.ensemble import RandomForestRegressor\n",
    "from sklearn.linear_model import LinearRegression\n",
    "from sklearn.preprocessing import StandardScaler\n",
    "from sklearn.metrics import mean_absolute_error, mean_squared_error\n",
    "import xgboost as xgb\n",
    "import warnings\n",
    "warnings.filterwarnings('ignore')\n",
    "\n",
    "%matplotlib inline"
   ]
  },
  {
   "cell_type": "markdown",
   "metadata": {},
   "source": [
    "## 1. Feature Engineering"
   ]
  },
  {
   "cell_type": "code",
   "execution_count": null,
   "metadata": {},
   "outputs": [],
   "source": [
    "def create_features(df, target_col='value', lags=[1, 2, 3, 24, 48]):\n",
    "    \"\"\"\n",
    "    Create lag features, rolling statistics, and time-based features\n",
    "    \"\"\"\n",
    "    df_features = df.copy()\n",
    "    \n",
    "    # Lag features\n",
    "    for lag in lags:\n",
    "        df_features[f'lag_{lag}'] = df_features[target_col].shift(lag)\n",
    "    \n",
    "    # Rolling statistics\n",
    "    for window in [3, 7, 24]:\n",
    "        df_features[f'rolling_mean_{window}'] = df_features[target_col].rolling(window).mean()\n",
    "        df_features[f'rolling_std_{window}'] = df_features[target_col].rolling(window).std()\n",
    "    \n",
    "    # Time-based features\n",
    "    df_features['hour'] = df_features.index.hour\n",
    "    df_features['day_of_week'] = df_features.index.dayofweek\n",
    "    df_features['day_of_month'] = df_features.index.day\n",
    "    df_features['month'] = df_features.index.month\n",
    "    \n",
    "    # Cyclical encoding\n",
    "    df_features['hour_sin'] = np.sin(2 * np.pi * df_features['hour'] / 24)\n",
    "    df_features['hour_cos'] = np.cos(2 * np.pi * df_features['hour'] / 24)\n",
    "    df_features['dow_sin'] = np.sin(2 * np.pi * df_features['day_of_week'] / 7)\n",
    "    df_features['dow_cos'] = np.cos(2 * np.pi * df_features['day_of_week'] / 7)\n",
    "    \n",
    "    return df_features"
   ]
  },
  {
   "cell_type": "markdown",
   "metadata": {},
   "source": [
    "## 2. Data Preparation"
   ]
  },
  {
   "cell_type": "code",
   "execution_count": null,
   "metadata": {},
   "outputs": [],
   "source": [
    "def prepare_ml_data(df, target_col='value', test_size=0.2):\n",
    "    \"\"\"\n",
    "    Prepare data for machine learning models\n",
    "    \"\"\"\n",
    "    # Drop rows with NaN values\n",
    "    df_clean = df.dropna()\n",
    "    \n",
    "    # Separate features and target\n",
    "    feature_cols = [col for col in df_clean.columns if col != target_col]\n",
    "    X = df_clean[feature_cols]\n",
    "    y = df_clean[target_col]\n",
    "    \n",
    "    # Split data (time series split)\n",
    "    split_point = int(len(df_clean) * (1 - test_size))\n",
    "    \n",
    "    X_train = X[:split_point]\n",
    "    X_test = X[split_point:]\n",
    "    y_train = y[:split_point]\n",
    "    y_test = y[split_point:]\n",
    "    \n",
    "    return X_train, X_test, y_train, y_test"
   ]
  },
  {
   "cell_type": "markdown",
   "metadata": {},
   "source": [
    "## 3. Random Forest Model"
   ]
  },
  {
   "cell_type": "code",
   "execution_count": null,
   "metadata": {},
   "outputs": [],
   "source": [
    "def train_random_forest(X_train, y_train, n_estimators=100, random_state=42):\n",
    "    \"\"\"\n",
    "    Train Random Forest model\n",
    "    \"\"\"\n",
    "    model = RandomForestRegressor(n_estimators=n_estimators, random_state=random_state)\n",
    "    model.fit(X_train, y_train)\n",
    "    return model\n",
    "\n",
    "def get_feature_importance(model, feature_names, top_n=10):\n",
    "    \"\"\"\n",
    "    Get top N feature importances\n",
    "    \"\"\"\n",
    "    importances = model.feature_importances_\n",
    "    feature_importance = pd.DataFrame({\n",
    "        'feature': feature_names,\n",
    "        'importance': importances\n",
    "    }).sort_values('importance', ascending=False)\n",
    "    \n",
    "    return feature_importance.head(top_n)"
   ]
  },
  {
   "cell_type": "markdown",
   "metadata": {},
   "source": [
    "## 4. XGBoost Model"
   ]
  },
  {
   "cell_type": "code",
   "execution_count": null,
   "metadata": {},
   "outputs": [],
   "source": [
    "def train_xgboost(X_train, y_train, X_val=None, y_val=None):\n",
    "    \"\"\"\n",
    "    Train XGBoost model\n",
    "    \"\"\"\n",
    "    model = xgb.XGBRegressor(\n",
    "        n_estimators=100,\n",
    "        max_depth=6,\n",
    "        learning_rate=0.1,\n",
    "        random_state=42\n",
    "    )\n",
    "    \n",
    "    if X_val is not None and y_val is not None:\n",
    "        model.fit(X_train, y_train, \n",
    "                 eval_set=[(X_val, y_val)], \n",
    "                 early_stopping_rounds=10, \n",
    "                 verbose=False)\n",
    "    else:\n",
    "        model.fit(X_train, y_train)\n",
    "    \n",
    "    return model"
   ]
  },
  {
   "cell_type": "markdown",
   "metadata": {},
   "source": [
    "## 5. Walk-Forward Validation"
   ]
  },
  {
   "cell_type": "code",
   "execution_count": null,
   "metadata": {},
   "outputs": [],
   "source": [
    "def walk_forward_validation(df, model_func, n_splits=5, target_col='value'):\n",
    "    \"\"\"\n",
    "    Perform walk-forward validation\n",
    "    \"\"\"\n",
    "    df_clean = df.dropna()\n",
    "    feature_cols = [col for col in df_clean.columns if col != target_col]\n",
    "    \n",
    "    total_len = len(df_clean)\n",
    "    initial_train_size = total_len // (n_splits + 1)\n",
    "    \n",
    "    scores = []\n",
    "    predictions = []\n",
    "    \n",
    "    for i in range(n_splits):\n",
    "        # Define train and test splits\n",
    "        train_end = initial_train_size + i * (total_len - initial_train_size) // n_splits\n",
    "        test_start = train_end\n",
    "        test_end = min(train_end + (total_len - initial_train_size) // n_splits, total_len)\n",
    "        \n",
    "        X_train = df_clean.iloc[:train_end][feature_cols]\n",
    "        y_train = df_clean.iloc[:train_end][target_col]\n",
    "        X_test = df_clean.iloc[test_start:test_end][feature_cols]\n",
    "        y_test = df_clean.iloc[test_start:test_end][target_col]\n",
    "        \n",
    "        # Train model\n",
    "        model = model_func(X_train, y_train)\n",
    "        \n",
    "        # Predict\n",
    "        y_pred = model.predict(X_test)\n",
    "        \n",
    "        # Evaluate\n",
    "        mae = mean_absolute_error(y_test, y_pred)\n",
    "        scores.append(mae)\n",
    "        predictions.extend(y_pred)\n",
    "    \n",
    "    return np.mean(scores), scores, predictions"
   ]
  },
  {
   "cell_type": "markdown",
   "metadata": {},
   "source": [
    "## 6. Example Usage"
   ]
  },
  {
   "cell_type": "code",
   "execution_count": null,
   "metadata": {},
   "outputs": [],
   "source": [
    "# Load and prepare data\n",
    "# df = pd.read_csv('../data/processed/clean_data.csv', parse_dates=['timestamp'], index_col='timestamp')\n",
    "# df_features = create_features(df)\n",
    "# X_train, X_test, y_train, y_test = prepare_ml_data(df_features)\n",
    "\n",
    "# Train models\n",
    "# rf_model = train_random_forest(X_train, y_train)\n",
    "# xgb_model = train_xgboost(X_train, y_train)\n",
    "\n",
    "# Make predictions\n",
    "# rf_pred = rf_model.predict(X_test)\n",
    "# xgb_pred = xgb_model.predict(X_test)\n",
    "\n",
    "# Evaluate\n",
    "# rf_mae = mean_absolute_error(y_test, rf_pred)\n",
    "# xgb_mae = mean_absolute_error(y_test, xgb_pred)\n",
    "\n",
    "print(\"Example template - uncomment and modify for your data\")"
   ]
  }
 ],
 "metadata": {
  "kernelspec": {
   "display_name": "Python 3",
   "language": "python",
   "name": "python3"
  },
  "language_info": {
   "name": "python",
   "version": "3.8.0"
  }
 },
 "nbformat": 4,
 "nbformat_minor": 4
}